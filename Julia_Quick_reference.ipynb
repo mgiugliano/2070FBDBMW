{
 "cells": [
  {
   "cell_type": "markdown",
   "metadata": {},
   "source": [
    "# Julia: Quick Reference\n",
    "\n",
    "#### Excerpt from *Learn Julia in Y Minutes* (https://learnxinyminutes.com/docs/julia/), adapted by M. Giugliano"
   ]
  },
  {
   "cell_type": "markdown",
   "metadata": {},
   "source": [
    "#### Textual comments\n",
    "Comments are lines of text ignored by the language interpreter and used to add readability to the code."
   ]
  },
  {
   "cell_type": "code",
   "execution_count": 1,
   "metadata": {},
   "outputs": [],
   "source": [
    "# Single line comments start with a hash (pound) symbol.\n",
    "\n",
    "# Whatever follows the hash symbol is ignored by the computer\n",
    "# but it does help a bit documenting and explaining the code to humans!\n",
    "\n",
    "#= Multiline comments can be written\n",
    "   by putting '#=' before the text  and '=#'\n",
    "   after the text. They can also be nested.\n",
    "=#\n",
    "\n",
    "#####\n",
    "\n",
    "# Note: Julia is case-sensitive. It matters if you write lower case or upper case\n",
    "# as they are NOT considered by the computer to be the same letters!!"
   ]
  },
  {
   "cell_type": "markdown",
   "metadata": {},
   "source": [
    "#### 1. Primitive data types and operators\n",
    "For our sake, numerical computing is all about numbers, variables, and functions that operates on variables."
   ]
  },
  {
   "cell_type": "code",
   "execution_count": 2,
   "metadata": {},
   "outputs": [
    {
     "data": {
      "text/plain": [
       "3.2"
      ]
     },
     "execution_count": 2,
     "metadata": {},
     "output_type": "execute_result"
    }
   ],
   "source": [
    "# Everything in Julia is an expression, meaning it returns some \"value\" \n",
    "# This is usually visualised on screen upon evaluation, but it can be suppressed \n",
    "# by simply terminating the line with a semicolumn symbol (;)\n",
    "\n",
    "# There are several basic types of numbers: among them integers and floating point numbers\n",
    "\n",
    "3               # => 3 (Int64)         (integer, 64 bit resolution)\n",
    "3.2             # => 3.2 (Float64)     (floating point, 64 bit resolution)"
   ]
  },
  {
   "cell_type": "code",
   "execution_count": 3,
   "metadata": {},
   "outputs": [
    {
     "data": {
      "text/plain": [
       "2"
      ]
     },
     "execution_count": 3,
     "metadata": {},
     "output_type": "execute_result"
    }
   ],
   "source": [
    "# All of the normal infix arithmetic operators are available: it is like having calculator... on steroids!\n",
    "\n",
    "1 + 1      # => 2\n",
    "8 - 1      # => 7\n",
    "10 * 2     # => 20\n",
    "35 / 5     # => 7.0\n",
    "5 / 2      # => 2.5   Remember: dividing an Int by an Int always results in a Float\n",
    "div(5, 2)  # => 2     For a truncated result, use the function div (i.e. integer division)\n",
    "2 ^ 2      # => 4     power\n",
    "12 % 10    # => 2   (reminder of an integer division)"
   ]
  },
  {
   "cell_type": "code",
   "execution_count": 4,
   "metadata": {},
   "outputs": [
    {
     "data": {
      "text/plain": [
       "8"
      ]
     },
     "execution_count": 4,
     "metadata": {},
     "output_type": "execute_result"
    }
   ],
   "source": [
    "# Enforce precedence in the arithmetic evaluations with parentheses\n",
    "\n",
    "(1 + 3) * 2 # => 8"
   ]
  },
  {
   "cell_type": "code",
   "execution_count": 5,
   "metadata": {},
   "outputs": [
    {
     "data": {
      "text/plain": [
       "false"
      ]
     },
     "execution_count": 5,
     "metadata": {},
     "output_type": "execute_result"
    }
   ],
   "source": [
    "# Boolean values are also primitives\n",
    "\n",
    "true\n",
    "false\n",
    "\n",
    "# Boolean operators\n",
    "\n",
    "!true  # => false\n",
    "!false # => true\n",
    "1 == 1 # => true\n",
    "2 == 1 # => false\n",
    "1 != 1 # => false\n",
    "2 != 1 # => true\n",
    "1 < 10 # => true\n",
    "1 > 10 # => false\n",
    "2 <= 2 # => true\n",
    "2 >= 2 # => true\n",
    "\n",
    "# Comparisons can be chained\n",
    "1 < 2 < 3 # => true\n",
    "2 < 3 < 2 # => false"
   ]
  },
  {
   "cell_type": "code",
   "execution_count": 6,
   "metadata": {},
   "outputs": [
    {
     "data": {
      "text/plain": [
       "\"This is a string.\""
      ]
     },
     "execution_count": 6,
     "metadata": {},
     "output_type": "execute_result"
    }
   ],
   "source": [
    "# Strings are created with the symbol \"\n",
    "\"This is a string.\"\n"
   ]
  },
  {
   "cell_type": "code",
   "execution_count": 7,
   "metadata": {},
   "outputs": [
    {
     "name": "stdout",
     "output_type": "stream",
     "text": [
      "I'm Julia. Nice to meet you!\n"
     ]
    }
   ],
   "source": [
    "# Printing strings on screen is very easy\n",
    "\n",
    "println(\"I'm Julia. Nice to meet you!\")"
   ]
  },
  {
   "cell_type": "code",
   "execution_count": 8,
   "metadata": {},
   "outputs": [
    {
     "name": "stdout",
     "output_type": "stream",
     "text": [
      "2 + 2 = 4\n"
     ]
    },
    {
     "data": {
      "text/plain": [
       "true"
      ]
     },
     "execution_count": 8,
     "metadata": {},
     "output_type": "execute_result"
    }
   ],
   "source": [
    "# The symbol $ can be used for string \"interpolation\":\n",
    "println(\"2 + 2 = $(2 + 2)\") # => \"2 + 2 = 4\"\n",
    "\n",
    "# You can put any Julia expression inside the parentheses and it will be evaluated \n",
    "# and transformed into the corresponding equivalent string characters\n",
    "\n",
    "# String can also be compared lexicographically\n",
    "\"good\" > \"bye\"    # => true\n",
    "\"good\" == \"good\"  # => true\n",
    "\"1 + 2 = 3\" == \"1 + 2 = $(1+2)\" # => true"
   ]
  },
  {
   "cell_type": "markdown",
   "metadata": {
    "collapsed": true
   },
   "source": [
    "#### 2. Variables and Arrays\n",
    "Remember the concept of having a box or a bin where you place an element for further use?"
   ]
  },
  {
   "cell_type": "code",
   "execution_count": 9,
   "metadata": {},
   "outputs": [
    {
     "data": {
      "text/plain": [
       "5"
      ]
     },
     "execution_count": 9,
     "metadata": {},
     "output_type": "execute_result"
    }
   ],
   "source": [
    "# You don't declare (scalar) variables before assigning to them some (numerical) value.\n",
    "some_var = 5    # => 5\n",
    "some_var        # => 5"
   ]
  },
  {
   "cell_type": "code",
   "execution_count": 10,
   "metadata": {},
   "outputs": [
    {
     "data": {
      "text/plain": [
       "'m': ASCII/Unicode U+006d (category Ll: Letter, lowercase)"
      ]
     },
     "execution_count": 10,
     "metadata": {},
     "output_type": "execute_result"
    }
   ],
   "source": [
    "# You can of course also assing a single character to a variable \n",
    "favourite_letter = 'm'"
   ]
  },
  {
   "cell_type": "code",
   "execution_count": 11,
   "metadata": {},
   "outputs": [
    {
     "ename": "LoadError",
     "evalue": "\u001b[91mUndefVarError: some_other_var not defined\u001b[39m",
     "output_type": "error",
     "traceback": [
      "\u001b[91mUndefVarError: some_other_var not defined\u001b[39m",
      "",
      "Stacktrace:",
      " [1] \u001b[1minclude_string\u001b[22m\u001b[22m\u001b[1m(\u001b[22m\u001b[22m::String, ::String\u001b[1m)\u001b[22m\u001b[22m at \u001b[1m./loading.jl:515\u001b[22m\u001b[22m"
     ]
    }
   ],
   "source": [
    "# If you try accessing a previously unassigned variable, you get an error\n",
    "# Please don't be afraid of getting errors and ..read therein why the system might complain\n",
    "\n",
    "some_other_var   # => ERROR: some_other_var not defined"
   ]
  },
  {
   "cell_type": "code",
   "execution_count": 12,
   "metadata": {},
   "outputs": [
    {
     "data": {
      "text/plain": [
       "6.283185307179586"
      ]
     },
     "execution_count": 12,
     "metadata": {},
     "output_type": "execute_result"
    }
   ],
   "source": [
    "# Variable names start with a letter or underscore.\n",
    "# After that, you can if you want use letters, digits, underscores, and exclamation points.\n",
    "\n",
    "SomeOther9_Var123 = 6 # => 6\n",
    "\n",
    "# You can also use fancy \"unicode\" characters, if you want\n",
    "☃ = 8 # => 8\n",
    "\n",
    "# These might be handy for directly relating to mathematical notation \n",
    "2 * π # => 6.283185307179586      (note: π is pre-defined in Julia)"
   ]
  },
  {
   "cell_type": "code",
   "execution_count": 13,
   "metadata": {},
   "outputs": [
    {
     "data": {
      "text/plain": [
       "3-element Array{Float64,1}:\n",
       " 21.0\n",
       "  5.0\n",
       "  6.0"
      ]
     },
     "execution_count": 13,
     "metadata": {},
     "output_type": "execute_result"
    }
   ],
   "source": [
    "# 1-dimensional arrays (vectors) can be used to store a sequence of values (of same type!)\n",
    "# They can be initialised as empty collections (e.g. Int64)\n",
    "a = Float64[]    # => 0-element Int64 Array\n",
    "\n",
    "# or, explicitly, indicating every single element, with comma-separated values.\n",
    "b = [4.1, 5, 6]    # => 3-element Int64 Array: [4.1, 5, 6]\n",
    "b = [4.1; 5; 6]    # => 3-element Int64 Array: [4.1, 5, 6]\n",
    "\n",
    "# They are \"indexed\" by integers 1 through n, so that individual elements can be accessed\n",
    "# and manipulated as any other scalar variables.\n",
    "b[1]    # => 4.1   Remember: in Julia indexes start from 1, not 0!\n",
    "b[2]    # => 5\n",
    "b[end]  # => 6     \"end\" is a shorthand for the last index. \n",
    "b[end-1] # => 5    Between [ ] you can place any expression that returns an integer!\n",
    "\n",
    "# Of course you can replace individual elements of the vector\n",
    "b[1]=21\n",
    "\n",
    "# You can type the following command to get the length of a specific array\n",
    "length(b)    #  => 3\n",
    "\n",
    "# and you if simply type the name of the variable, you will get its content displayed\n",
    "b\n",
    "\n",
    "# Have you noticed it? Commands (or existing **functions** uses the round parentheses)\n",
    "# While referring to an element of an array requires using the square brackets!"
   ]
  },
  {
   "cell_type": "code",
   "execution_count": 14,
   "metadata": {},
   "outputs": [
    {
     "data": {
      "text/plain": [
       "3-element Array{Int64,1}:\n",
       " 4\n",
       " 5\n",
       " 6"
      ]
     },
     "execution_count": 14,
     "metadata": {},
     "output_type": "execute_result"
    }
   ],
   "source": [
    "# Add stuff to the end of a list with the commands push! and append!\n",
    "# Sometimes, in fact, you might not know in advance the size of the array you are managing\n",
    "push!(a,1)     # => [1]        \"a\" was indeed empty, when created\n",
    "push!(a,2)     # => [1,2]\n",
    "push!(a,4)     # => [1,2,4]\n",
    "push!(a,3)     # => [1,2,4,3]\n",
    "append!(a,b)   # => [1,2,4,3,21,5,6]\n",
    "\n",
    "# Remove from the end with pop\n",
    "pop!(b)        # => 6 and b is now [21,5]\n",
    "\n",
    "# Let's put it back\n",
    "push!(b,6)   # b is now [21,5,6] again.\n",
    "\n",
    "# Function names that end in exclamations points indicate that they modify permanently \n",
    "# their argument. Otherwise functions usually return an output (i.e. an expression evaluated)\n",
    "\n",
    "arr = [5,4,6] # => 3-element Int64 Array: [5,4,6]\n",
    "sorted_array = sort(arr)     # => [4,5,6]; arr is still [5,4,6], but sorted_array is [4,5,6]\n",
    "sort!(arr)    # => [4,5,6]; arr has been sorted now [4,5,6]"
   ]
  },
  {
   "cell_type": "code",
   "execution_count": 15,
   "metadata": {},
   "outputs": [
    {
     "ename": "LoadError",
     "evalue": "\u001b[91mBoundsError: attempt to access 3-element Array{Int64,1} at index [5]\u001b[39m",
     "output_type": "error",
     "traceback": [
      "\u001b[91mBoundsError: attempt to access 3-element Array{Int64,1} at index [5]\u001b[39m",
      "",
      "Stacktrace:",
      " [1] \u001b[1mgetindex\u001b[22m\u001b[22m\u001b[1m(\u001b[22m\u001b[22m::Array{Int64,1}, ::Int64\u001b[1m)\u001b[22m\u001b[22m at \u001b[1m./array.jl:520\u001b[22m\u001b[22m",
      " [2] \u001b[1minclude_string\u001b[22m\u001b[22m\u001b[1m(\u001b[22m\u001b[22m::String, ::String\u001b[1m)\u001b[22m\u001b[22m at \u001b[1m./loading.jl:515\u001b[22m\u001b[22m"
     ]
    }
   ],
   "source": [
    "# Any attempt at referring to an element of an array outside the allowed boundaries\n",
    "# returns an error. Don't be afraid of this!\n",
    "# Errors list the line where the problem occurred and sometimes you can get useful info.\n",
    "arr[5]"
   ]
  },
  {
   "cell_type": "code",
   "execution_count": 16,
   "metadata": {},
   "outputs": [
    {
     "data": {
      "text/plain": [
       "true"
      ]
     },
     "execution_count": 16,
     "metadata": {},
     "output_type": "execute_result"
    }
   ],
   "source": [
    "# You can initialize arrays also specifying a range of values\n",
    "a = [1:5;] # => 5-element Int64 Array: [1,2,3,4,5]\n",
    "\n",
    "# even with a non-unitary increment\n",
    "aa = [2:2:10;] # => 5-element Int64 Array: [2,4,6,8,10]\n",
    "bb = [1:2:10;] # => 5-element Int64 Array: [1,3,5,7,9]\n",
    "\n",
    "# You can look at ranges with such a \"slice\" syntax.\n",
    "a[1:3] # => [1, 2, 3]\n",
    "bb[2:end] # => [3, 5, 7, 9]\n",
    "\n",
    "# Finally, you can check for existence of an element in a list with in\n",
    "in(7, bb) # => true\n"
   ]
  },
  {
   "cell_type": "code",
   "execution_count": 17,
   "metadata": {},
   "outputs": [
    {
     "data": {
      "text/plain": [
       "2×3 Array{Int64,2}:\n",
       " 1  2  3\n",
       " 4  5  6"
      ]
     },
     "execution_count": 17,
     "metadata": {},
     "output_type": "execute_result"
    }
   ],
   "source": [
    "# 2-dimensional arrays use space-separated values and semicolon-separated rows.\n",
    "mymatrix = [1 2 3; 4 5 6] # => 2x3 Int64 Array: [1 2 3; 4 5 6]"
   ]
  },
  {
   "cell_type": "code",
   "execution_count": 18,
   "metadata": {},
   "outputs": [
    {
     "data": {
      "text/plain": [
       "2-element Array{Int64,1}:\n",
       " 2\n",
       " 5"
      ]
     },
     "execution_count": 18,
     "metadata": {},
     "output_type": "execute_result"
    }
   ],
   "source": [
    "# Elements of 2-dimensional array can be addressed by specifying two indexes\n",
    "mymatrix[2,1]    # => 4   (row 2, column 1)\n",
    "\n",
    "# and can be similarly sliced\n",
    "mymatrix[1:2,2] # => [2, 5]   (fixing column 2, all the rows ranging from 1 to 2)"
   ]
  },
  {
   "cell_type": "code",
   "execution_count": 19,
   "metadata": {},
   "outputs": [
    {
     "data": {
      "text/plain": [
       "4×3 Array{Float64,2}:\n",
       " 0.0  0.0  0.0\n",
       " 0.0  0.0  0.0\n",
       " 0.0  0.0  0.0\n",
       " 0.0  0.0  0.0"
      ]
     },
     "execution_count": 19,
     "metadata": {},
     "output_type": "execute_result"
    }
   ],
   "source": [
    "# 1- and 2-dimensional arrays can be also filled with default values\n",
    "\n",
    "myzeros_array = zeros(Float64,4) # => [0.0, 0.0, 0.0, 0.0]\n",
    "myones_array = ones(Float64,4)   # => [1.0, 1.0, 1.0, 1.0]\n",
    " \n",
    "myzero_matrix = zeros(Float64,4,3) # 4x3 Float64 Array: [0 0 0; 0 0 0; 0 0 0; 0 0 0]"
   ]
  },
  {
   "cell_type": "code",
   "execution_count": 20,
   "metadata": {},
   "outputs": [
    {
     "data": {
      "text/plain": [
       "8-element Array{Float64,1}:\n",
       "  1.77502  \n",
       "  0.309366 \n",
       " -1.45378  \n",
       "  0.0663759\n",
       " -0.467656 \n",
       " -0.918256 \n",
       " -1.16307  \n",
       " -0.670127 "
      ]
     },
     "execution_count": 20,
     "metadata": {},
     "output_type": "execute_result"
    }
   ],
   "source": [
    "# One can also fill an array with random numbers, drawn from a Gaussian (normal) distribution\n",
    "# with zero mean and unitary variance\n",
    "\n",
    "myrandom_array1 = randn(Float64,8)"
   ]
  },
  {
   "cell_type": "code",
   "execution_count": 21,
   "metadata": {},
   "outputs": [
    {
     "data": {
      "text/plain": [
       "5-element Array{Float64,1}:\n",
       " 0.140802\n",
       " 0.767896\n",
       " 0.672675\n",
       " 0.303776\n",
       " 0.392174"
      ]
     },
     "execution_count": 21,
     "metadata": {},
     "output_type": "execute_result"
    }
   ],
   "source": [
    "# or a uniform distribution between 0 and 1\n",
    "\n",
    "myrandom_array2 = rand(Float64,5)"
   ]
  },
  {
   "cell_type": "code",
   "execution_count": 22,
   "metadata": {},
   "outputs": [
    {
     "name": "stdout",
     "output_type": "stream",
     "text": [
      "The mean of 10000 gaussian samples is -0.00531767001237156 (0 in theory)\n",
      "\n",
      "The standard deviation of 10000 gaussian samples is 1.0018066788211912 (1 in theory)\n",
      "\n",
      "The mean of 10000 uniform samples is 0.49893860887699565 (0.5 in theory)\n",
      "\n"
     ]
    }
   ],
   "source": [
    "# Mean and standard deviation can be easily computer\n",
    "myrandom_array1 = randn(Float64,10000);   # Note: I placed here the \";\", suppressing display!\n",
    "myrandom_array2 = rand(Float64, 10000);  # Note: I placed here the \";\", suppressing display!\n",
    "\n",
    "m1 = mean(myrandom_array1)\n",
    "println(\"The mean of 10000 gaussian samples is $(m1) (0 in theory)\\n\")\n",
    "\n",
    "s1 = std(myrandom_array1)\n",
    "println(\"The standard deviation of 10000 gaussian samples is $(s1) (1 in theory)\\n\")\n",
    "\n",
    "m2 = mean(myrandom_array2)\n",
    "println(\"The mean of 10000 uniform samples is $(m2) (0.5 in theory)\\n\")"
   ]
  },
  {
   "cell_type": "markdown",
   "metadata": {},
   "source": [
    "#### 3. Controlling the flow of a program\n",
    "IKEA furniture sometimes gets interesting when they tell you *\"go to page 4, if your closet does not have sliding mirror doors, otherwise continue reading*\"."
   ]
  },
  {
   "cell_type": "code",
   "execution_count": 23,
   "metadata": {},
   "outputs": [
    {
     "name": "stdout",
     "output_type": "stream",
     "text": [
      "some_var is smaller than 10.\n"
     ]
    }
   ],
   "source": [
    "# Let's create a variable and assign a numerical value to it\n",
    "some_var = 5\n",
    "\n",
    "# Here is an if-then-else statement. Indentation is not meaningful in Julia.\n",
    "if some_var > 10\n",
    "    println(\"some_var is totally bigger than 10.\")\n",
    "elseif some_var < 10    # This elseif clause is optional.\n",
    "    println(\"some_var is smaller than 10.\")\n",
    "else                    # The else clause is optional too.\n",
    "    println(\"some_var is indeed 10.\")\n",
    "end\n",
    "# => prints \"some var is smaller than 10\""
   ]
  },
  {
   "cell_type": "code",
   "execution_count": 24,
   "metadata": {},
   "outputs": [
    {
     "name": "stdout",
     "output_type": "stream",
     "text": [
      "The mean of 10 gaussian samples is -0.27989005313763515 (0. in theory)\n",
      "\n"
     ]
    }
   ],
   "source": [
    "# For loops are used to iterate over the content of an array for instance\n",
    "\n",
    "arr = randn(Float64, 10)\n",
    "n   = length(arr)\n",
    "m   = 0.\n",
    "\n",
    "for i=1:n\n",
    "    m = m + arr[i]\n",
    "end\n",
    "\n",
    "println(\"The mean of $(n) gaussian samples is $(m/n) (0. in theory)\\n\")"
   ]
  },
  {
   "cell_type": "code",
   "execution_count": 25,
   "metadata": {},
   "outputs": [
    {
     "name": "stdout",
     "output_type": "stream",
     "text": [
      "The mean of 10 gaussian samples is -0.27989005313763515 (0. in theory)\n",
      "\n"
     ]
    }
   ],
   "source": [
    "# The above code could have of course been written equivalently as\n",
    "\n",
    "m   = 0.\n",
    "m   = m + arr[1]\n",
    "m   = m + arr[2]\n",
    "m   = m + arr[3]\n",
    "m   = m + arr[4]\n",
    "m   = m + arr[5]\n",
    "m   = m + arr[6]\n",
    "m   = m + arr[7]\n",
    "m   = m + arr[8]\n",
    "m   = m + arr[9]\n",
    "m   = m + arr[10]       # Here there are as many lines as elements in arr\n",
    "                        # Imagine having 500000 elements. \n",
    "\n",
    "println(\"The mean of $(n) gaussian samples is $(m/n) (0. in theory)\\n\")"
   ]
  },
  {
   "cell_type": "code",
   "execution_count": 26,
   "metadata": {},
   "outputs": [
    {
     "name": "stdout",
     "output_type": "stream",
     "text": [
      "The mean of 10 gaussian samples is -0.27989005313763515 (0. in theory)\n",
      "\n"
     ]
    }
   ],
   "source": [
    "# Or even as\n",
    "\n",
    "m = arr[1] + arr[2] + arr[3] + arr[4] + arr[5] + arr[6] + arr[7] + arr[8] + arr[9] + arr[10]\n",
    "# Here the line is as long as there are elements in arr. Imagine having 500000 elements.\n",
    "println(\"The mean of $(n) gaussian samples is $(m/n) (0. in theory)\\n\")"
   ]
  },
  {
   "cell_type": "code",
   "execution_count": 27,
   "metadata": {},
   "outputs": [
    {
     "name": "stdout",
     "output_type": "stream",
     "text": [
      "0\n",
      "1\n",
      "2\n",
      "3\n"
     ]
    }
   ],
   "source": [
    "# You might not know in advance how many times a loop has to be repeated\n",
    "\n",
    "x = 0\n",
    "while x < 4\n",
    "    println(x)\n",
    "    x += 1  # Shorthand for x = x + 1\n",
    "end"
   ]
  },
  {
   "cell_type": "markdown",
   "metadata": {},
   "source": [
    "#### 4. Functions (i.e. new commands that become available to the user)\n",
    "In Julia, whatever code you place inside a function becomes incredibly fast to execute compared to every time having one instruction after the other."
   ]
  },
  {
   "cell_type": "code",
   "execution_count": 28,
   "metadata": {},
   "outputs": [
    {
     "name": "stdout",
     "output_type": "stream",
     "text": [
      "x is 5 and y is 6\n"
     ]
    },
    {
     "data": {
      "text/plain": [
       "11"
      ]
     },
     "execution_count": 28,
     "metadata": {},
     "output_type": "execute_result"
    }
   ],
   "source": [
    "# The keyword 'function' creates new functions\n",
    "#function name(arglist)\n",
    "#  body...\n",
    "#end\n",
    "function add(x, y)\n",
    "    println(\"x is $x and y is $y\")\n",
    "\n",
    "    # Functions return the value of their last statement\n",
    "    x + y\n",
    "end\n",
    "\n",
    "add(5, 6) # => 11 after printing out \"x is 5 and y is 6\""
   ]
  },
  {
   "cell_type": "markdown",
   "metadata": {},
   "source": [
    "You can get a lot more detail from The Julia Manual  http://docs.julialang.org/en/latest/manual/ .\n",
    "\n",
    "The best place to get help with Julia is the (very friendly) mailing list\n",
    "https://groups.google.com/forum/#!forum/julia-users ."
   ]
  },
  {
   "cell_type": "code",
   "execution_count": null,
   "metadata": {},
   "outputs": [],
   "source": []
  }
 ],
 "metadata": {
  "anaconda-cloud": {},
  "kernelspec": {
   "display_name": "Julia 0.6.0",
   "language": "julia",
   "name": "julia-0.6"
  },
  "language_info": {
   "file_extension": ".jl",
   "mimetype": "application/julia",
   "name": "julia",
   "version": "0.6.0"
  }
 },
 "nbformat": 4,
 "nbformat_minor": 1
}
