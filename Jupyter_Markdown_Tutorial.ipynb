{
 "cells": [
  {
   "cell_type": "markdown",
   "metadata": {},
   "source": [
    "# Jupyter Markdown (brief) Tutorial \n",
    "\n",
    "by Michele Giugliano (http://www.uantwerpen.be/michele-giugliano)\n",
    "\n",
    "** Largely based on https://www.youtube.com/user/roshanRush **\n",
    "\n",
    "This notebook contains no code and it is constituted by several _cells_ (i.e. all are speficied as **Markdown** type and not **Code**). You are very warmly invited to double click on each cell and discover by yourself how text can be formatted, styled, complemented with tables, equations, and other symbols, by Jupyter's support to _Markdown_ language.\n",
    "\n"
   ]
  },
  {
   "cell_type": "markdown",
   "metadata": {},
   "source": [
    "Indeed, besides allowing one to run computer code and display its results on a single web page, Jupyter notebooks make possible to create _Markdown_ cells containing text, equations, and other annotations, within the very same document. This require using no more than a web browser.\n",
    "\n",
    "The specific term _Markdown_ refers to a more general concept of _markup languages_ (like HTML). These are systems for formatting and rendering text and other elements in a document in a way that is syntactically distinguishable from the text. This is a slightly different (but much simpler and interchangeable) approach than modern word processors where \"what-you-see-is-what-you-get\". \n",
    "\n",
    "---\n"
   ]
  },
  {
   "cell_type": "markdown",
   "metadata": {},
   "source": [
    "## Headings\n",
    "\n",
    "By simply using the \"#\" symbol and a space, it is possible to create headings of various size (i.e. hierarchy).\n",
    "\n",
    "# H1\n",
    "## H2\n",
    "### H3\n",
    "#### H4\n",
    "##### H5\n",
    "###### H6\n",
    "\n",
    "---\n"
   ]
  },
  {
   "cell_type": "markdown",
   "metadata": {},
   "source": [
    "## Font Styles\n",
    "\n",
    "Text can be styles using \n",
    "\n",
    "**Bold Font** or __Bold Font__\n",
    "\n",
    "*Italic* or _Italic Font_\n",
    "\n",
    "~~Scratched Text~~\n",
    "\n",
    "Markdown doesn't support underline. But you can do that using HTML <u>Text</u>\n",
    "\n",
    "---\n"
   ]
  },
  {
   "cell_type": "markdown",
   "metadata": {},
   "source": [
    "## Lists\n",
    "\n",
    "Lists are very easy to create, being unordered\n",
    "\n",
    "- item\n",
    "- item\n",
    " - subitem\n",
    " - subitem\n",
    "- item\n",
    "\n",
    "or ordered ones.\n",
    "\n",
    "1. item\n",
    "2. item\n",
    " 1. sub item\n",
    " 2. sub item\n",
    "3. item\n",
    "\n",
    "---\n"
   ]
  },
  {
   "cell_type": "markdown",
   "metadata": {},
   "source": [
    "## Hyper Links\n",
    "\n",
    "Hyper links can be also inserted within the very same text, in a very natural way:\n",
    "\n",
    "http:///www.uantwerpen.be\n",
    "\n",
    "[Michele Giugliano's home page](http://www.uantwerpen.be/michele-giugliano)\n",
    "\n",
    "\n",
    "---\n"
   ]
  },
  {
   "cell_type": "markdown",
   "metadata": {},
   "source": [
    "## Images\n",
    "\n",
    "Images can be also included in the document, specifying their full URL (uniform resource locator) on the internet like\n",
    "\n",
    "![Turing's Device](http://www.google.com/logos/2012/turing-doodle-static.jpg \"Alan Turing's 100th Birthday\")\n",
    "\n",
    "or their (absolute or relative) file path in the file system of the computer where the notebook is displayed.\n",
    "\n",
    "![title](./UAlogo.png)\n",
    "\n",
    "You most likely have only one image showing up correctly above and then a question mark (as no file named _UAlogo.png_ has been found in your own folder). \n",
    "\n",
    "---\n"
   ]
  },
  {
   "cell_type": "markdown",
   "metadata": {},
   "source": [
    "\n",
    "## Horizontal Line\n",
    "\n",
    "We have been using a horizontal line since the very first cell above of this document!\n",
    "\n",
    "---\n",
    "\n"
   ]
  },
  {
   "cell_type": "markdown",
   "metadata": {},
   "source": [
    "## Tables\n",
    "\n",
    "Tables are particularly easy to obtain, including distinct justification/alignments of the elements, in a column-wise manner.\n",
    "\n",
    "| Tables        | Are           | Cool  |\n",
    "| ------------- |:-------------:| -----:|\n",
    "| col 3 is      | right-aligned |  1600 |\n",
    "| col 2 is      | centered      |    12 |\n",
    "| zebra stripes | are neat      |     1 |\n",
    "\n",
    "---\n"
   ]
  },
  {
   "cell_type": "markdown",
   "metadata": {},
   "source": [
    "## HTML\n",
    "\n",
    "Maybe there is someone among you who is fond of the web technologies and of HTML. It is in fact possible to leverage on the powerful rendering commands of HTML, as demonstrated below.\n",
    "\n",
    "<b>You</b> can <i>render</i> almost any <span style=\"color:red;\">HTML</span> code you <u>like</u>.\n",
    "\n",
    "---"
   ]
  },
  {
   "cell_type": "markdown",
   "metadata": {},
   "source": [
    "## Listing of computer code\n",
    "\n",
    "Code can be listed (without being executed) with proper formatting and graphical enhancement, as in the example below.\n",
    "\n",
    "Julia Code:\n",
    "```julia\n",
    "x = 5                                             # Didn't I tell you to comment every line!??!\n",
    "print(\"Hey, this was nice and the result is \", x) # This is a comment\n",
    "```\n",
    "\n",
    "---\n"
   ]
  },
  {
   "cell_type": "markdown",
   "metadata": {},
   "source": [
    "# LaTeX\n",
    "\n",
    "For equations, symbols, and advanced rendering of mathematical symbols, Jupyter accepts the very same syntax of LaTeX. \n",
    "\n",
    "**References:**\n",
    "\n",
    "- [LaTeX Wiki](http://en.wikibooks.org/wiki/LaTeX/Mathematics)\n",
    "- [Duke University, Department of  Statistical Science](https://stat.duke.edu/resources/computing/latex)\n",
    "- [Equation Sheet](http://www.equationsheet.com/)\n",
    "\n",
    "LaTeX is a large typeset system for scientific documentation which symbols for mathematics, statistics, physics, quantum mechanics, and computer science. It is beyond the scope of this tutorial to cover everything, but the basics of writing high quality mathematical equations using LaTeX will be examined.\n",
    "\n",
    "You can use LaTeX in line by like this $y = x^2$ or in block like this $$y = x^2$$\n",
    "\n",
    "\n",
    "---\n"
   ]
  },
  {
   "cell_type": "markdown",
   "metadata": {},
   "source": [
    "## Most frequent mathematical symbols, operations, relations:\n",
    "\n",
    "Let's start with something easy...\n",
    "\n",
    "- Add:\n",
    " - $x + y$\n",
    "- Subtract:\n",
    " - $x - y$\n",
    "- Multiply\n",
    " - $x * y$\n",
    " - $x \\times y$ \n",
    " - $x . y$ \n",
    "- Divide\n",
    " - $x / y$\n",
    " - $x \\div y$\n",
    " - $\\frac{x}{y}$\n",
    " \n",
    "Let's continue with something still very easy...\n",
    " \n",
    "- $\\pi \\approx 3.14159$\n",
    "- ${1 \\over 0} \\neq \\inf$\n",
    "- $0 < x > 1$\n",
    "- $0 \\leq x \\geq 1$\n",
    "\n",
    "Let's go on...\n",
    "\n",
    "- $^1/_2$\n",
    "- $\\frac{1}{2x}$\n",
    "- ${3 \\over 4}$\n",
    "\n",
    "\n",
    "You can add power using the carrot `^` symbol. If you have more than one character you have to enclose them in a curly brackets.\n",
    "\n",
    " $$f(x) = x^2 - x^{1 \\over \\pi}$$\n",
    "\n",
    "For index you can use the underscore symbol:\n",
    "\n",
    "$$f(X,n) = X_n + X_{n-1}$$\n",
    "\n",
    "\n",
    "You can then express a square root in LaTeX using the `\\sqrt` and to change the level of the root you can use `\\sqrt[n]` where `n` is the level of the root.\n",
    "\n",
    "$$f(x) = \\sqrt[3]{2x} + \\sqrt{x-2}$$\n",
    "\n",
    "To represent a log use `\\log[base]` where `base` is the base of the logarithmic term, or simply `\\log 23` or `\\ln 23` for the intended base 10 or $e$, respectively. \n",
    "\n",
    "$$\\log[e] x = 1$$\n",
    "\n",
    "$$\\ln 23$$\n",
    "\n",
    "---\n"
   ]
  },
  {
   "cell_type": "markdown",
   "metadata": {},
   "source": [
    "## Greek Alphabet\n",
    "\n",
    "Didn't you study greek at school?? Let me provide you with a map, so that you can use the greek alphabet in your text.\n",
    "\n",
    "| Small Letter          | Capical Letter       | Alervative                  |\n",
    "| --------------------- | -------------------- | --------------------------- |\n",
    "| $\\alpha$   `\\alpha`   | $A$ `A`              |                             |\n",
    "| $\\beta$   `\\beta`     | $B$ `B`              |                             |\n",
    "| $\\gamma$   `\\gamma`   | $\\Gamma$ `\\Gamma`    |                             |\n",
    "| $\\delta$   `\\delta`   | $\\Delta$ `\\Delta`    |                             |\n",
    "| $\\epsilon$ `\\epsilon` | $E$ `E`              | $\\varepsilon$ `\\varepsilon` |\n",
    "| $\\zeta$   `\\zeta`     | $Z$ `Z`              |                             |\n",
    "| $\\eta$   `\\eta`       | $H$ `H`              |                             |\n",
    "| $\\theta$ `\\theta`     | $\\Theta$ `\\Theta`    | $\\vartheta$ `\\vartheta`     |\n",
    "| $\\iota$   `\\zeta`     | $I$ `I`              |                             |\n",
    "| $\\kappa$ `\\kappa`     | $K$ `K`              | $\\varkappa$ `\\varkappa`     |\n",
    "| $\\lambda$   `\\lambda` | $\\Lambda$ `\\Lambda`  |                             |\n",
    "| $\\mu$   `\\mu`         | $M$ `M`              |                             |\n",
    "| $\\nu$   `\\nu`         | $N$ `N`              |                             |\n",
    "| $\\xi$   `\\xi`         | $Xi$ `\\Xi`           |                             |\n",
    "| $\\omicron$ `\\omicron` | $O$ `O`              |                             |\n",
    "| $\\pi$ `\\pi`           | $\\Pi$ `\\Pi`          | $\\varpi$ `\\varpi`           |\n",
    "| $\\rho$ `\\rho`         | $P$ `P`              | $\\varrho$ `\\varrho`         |\n",
    "| $\\sigma$ `\\sigma`     | $\\Sigma$ `\\Sigma`    | $\\varsigma$ `\\varsigma`     |\n",
    "| $\\tau$   `\\tau`       | $T$ `T`              |                             |\n",
    "| $\\upsilon$ `\\upsilon` | $\\Upsilon$ `\\Upsilon`|                             |\n",
    "| $\\phi$ `\\phi`         | $\\Phi$ `\\Phi`        | $\\varphi$ `\\varphi`         |\n",
    "| $\\chi$   `\\chi`       | $X$ `X`              |                             |\n",
    "| $\\psi$ `\\psi`         | $\\Psi$ `\\Psi`        |                             |\n",
    "| $\\omega$   `\\omega`   | $\\Omega$ `\\Omega`    |                             |\n",
    "\n",
    "---"
   ]
  },
  {
   "cell_type": "markdown",
   "metadata": {},
   "source": [
    "\n",
    "## Sums & Products\n",
    "\n",
    "You can represent a sum with a sigma using `\\sum\\limits_{a}^{b}` where a and b are the lower and higher limits of the sum.\n",
    "\n",
    "$$\\sum\\limits_{x=1}^{\\infty} {1 \\over x} = 2$$\n",
    "\n",
    "Also you can represent a product with `\\prod\\limits_{a}^{a}` where a and b are the lower and higher limits.\n",
    "\n",
    "$$\\prod\\limits_{i=1}^{n} x_i - 1$$\n",
    "\n",
    "\n",
    "\n",
    "To represent a [binomial coefficient](http://en.wikipedia.org/wiki/Binomial_coefficient) with n choose k, use the following:\n",
    "\n",
    "$$\\frac{n!}{k!(n-k)!} = {n \\choose k}$$\n",
    "\n",
    "---\n"
   ]
  },
  {
   "cell_type": "markdown",
   "metadata": {},
   "source": [
    "## Calculus\n",
    "\n",
    "Limits are represented using `\\lim\\limits_{x \\to a}` as `x` approaches `a`.\n",
    "\n",
    "$$\\lim\\limits_{x \\to 0^+} {1 \\over 0} = \\infty$$\n",
    "\n",
    "For integral equations use `\\int\\limits_{a}^{b}` where `a` and `b` are the lower and higher limits.\n",
    "\n",
    "$$\\int\\limits_a^b 2x \\, dx$$\n",
    "\n"
   ]
  },
  {
   "cell_type": "markdown",
   "metadata": {},
   "source": [
    "## Function definition over periods\n",
    "\n",
    "Defining a function that is calculated differently over a number of period can done using LaTeX. There are a few tricks that we will use to do that:\n",
    "\n",
    "- The large curly bracket `\\left\\{ ... \\right.` Notice it you want to use `(` or `[` you don't have to add a back slash(`\\`). You can also place a right side matching bracket by replacing the `.` after `\\right` like this `.right}`\n",
    "- Array to hold the definitions in place. it has two columns with left alignment. `\\begin{array}{ll} ... \\end{array}`\n",
    "- Line Breaker `\\\\`\n",
    "- Text alignment box ` \\mbox{Text}`\n",
    "\n",
    "$f(x) =\\left\\{\\begin{array}{ll}0  & \\mbox{if } x = 0 \\\\{1 \\over x} & \\mbox{if } x \\neq 0\\end{array}\\right.$\n",
    "\n",
    "---"
   ]
  },
  {
   "cell_type": "markdown",
   "metadata": {},
   "source": [
    "# Quick Quiz (Normal Distribution)\n",
    "\n",
    "Try to replicate the [Normal Distribution](http://en.wikipedia.org/wiki/Normal_distribution) formula using LaTeX. \n",
    "\n",
    "WRITE HERE YOUR MARKDOWN... :-)\n",
    "\n",
    "Tips to help with the quiz:\n",
    "\n",
    "- $\\mu$ is `\\mu`\n",
    "- $\\sigma$ is `\\sigma`\n",
    "- $e$ is `e`\n",
    "\n",
    "---\n"
   ]
  },
  {
   "cell_type": "markdown",
   "metadata": {},
   "source": [
    "Have a look at this last cell, but only as a last resort!\n",
    "\n",
    "\n",
    "\n",
    "$$P(x,\\sigma,\\mu) = \\frac{1}{{\\sigma \\sqrt {2\\pi } }}e^{{-(x - \\mu)^2 } / {2\\sigma ^2}}$$\n",
    "\n"
   ]
  },
  {
   "cell_type": "code",
   "execution_count": null,
   "metadata": {
    "collapsed": true
   },
   "outputs": [],
   "source": []
  }
 ],
 "metadata": {
  "kernelspec": {
   "display_name": "Julia 0.6.0",
   "language": "julia",
   "name": "julia-0.6"
  },
  "language_info": {
   "file_extension": ".jl",
   "mimetype": "application/julia",
   "name": "julia",
   "version": "0.4.6"
  }
 },
 "nbformat": 4,
 "nbformat_minor": 1
}
